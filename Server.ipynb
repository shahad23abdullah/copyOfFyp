{
 "cells": [
  {
   "cell_type": "code",
   "execution_count": 2,
   "id": "1e7ec091",
   "metadata": {},
   "outputs": [
    {
     "name": "stdout",
     "output_type": "stream",
     "text": [
      " * Serving Flask app '__main__'\n",
      " * Debug mode: off\n"
     ]
    },
    {
     "name": "stderr",
     "output_type": "stream",
     "text": [
      "WARNING: This is a development server. Do not use it in a production deployment. Use a production WSGI server instead.\n",
      " * Running on all addresses (0.0.0.0)\n",
      " * Running on http://127.0.0.1:8888\n",
      " * Running on http://192.168.100.11:8888\n",
      "Press CTRL+C to quit\n"
     ]
    },
    {
     "ename": "",
     "evalue": "",
     "output_type": "error",
     "traceback": [
      "\u001b[1;31mThe Kernel crashed while executing code in the current cell or a previous cell. \n",
      "\u001b[1;31mPlease review the code in the cell(s) to identify a possible cause of the failure. \n",
      "\u001b[1;31mClick <a href='https://aka.ms/vscodeJupyterKernelCrash'>here</a> for more info. \n",
      "\u001b[1;31mView Jupyter <a href='command:jupyter.viewOutput'>log</a> for further details."
     ]
    }
   ],
   "source": [
    "from flask import Flask, request, send_file\n",
    "import random\n",
    "\n",
    "app = Flask(__name__)\n",
    "\n",
    "@app.route('/upload-audio', methods=['POST'])\n",
    "def upload_audio():\n",
    "    file = request.files.get('file')\n",
    "    if not file:\n",
    "        return \"No audio file provided\", 400\n",
    "\n",
    "    # Save the audio file\n",
    "    file.save('audio.wav')\n",
    "\n",
    "    return \"Audio file uploaded successfully\"\n",
    "\n",
    "@app.route('/get-audio')\n",
    "def get_audio():\n",
    "    # Send the audio file back to the client\n",
    "    return send_file('audio.wav', as_attachment=True)\n",
    "\n",
    "\n",
    "if __name__ == '__main__':\n",
    "    app.run(host='0.0.0.0', port=8888)\n"
   ]
  },
  {
   "cell_type": "code",
   "execution_count": null,
   "id": "d2829632",
   "metadata": {},
   "outputs": [
    {
     "name": "stdout",
     "output_type": "stream",
     "text": [
      " * Serving Flask app '__main__'\n",
      " * Debug mode: off\n"
     ]
    },
    {
     "name": "stderr",
     "output_type": "stream",
     "text": [
      "WARNING: This is a development server. Do not use it in a production deployment. Use a production WSGI server instead.\n",
      " * Running on all addresses (0.0.0.0)\n",
      " * Running on http://127.0.0.1:8888\n",
      " * Running on http://192.168.100.11:8888\n",
      "Press CTRL+C to quit\n"
     ]
    }
   ],
   "source": [
    "from flask import Flask\n",
    "\n",
    "app = Flask(__name__)\n",
    "def get_message():\n",
    "    messgae =\"567\"\n",
    "    print(messgae) \n",
    "    return messgae \n",
    "\n",
    "@app.route('/receiveMessage')\n",
    "def return_message():\n",
    "    # Call the get_message function to get the message\n",
    "    message = get_message()\n",
    "    return message\n",
    "\n",
    "if __name__ == '__main__':\n",
    "    app.run(host='0.0.0.0', port=8888)\n"
   ]
  },
  {
   "cell_type": "code",
   "execution_count": null,
   "id": "63fc5308",
   "metadata": {},
   "outputs": [
    {
     "name": "stdout",
     "output_type": "stream",
     "text": [
      " * Serving Flask app '__main__'\n",
      " * Debug mode: off\n"
     ]
    },
    {
     "name": "stderr",
     "output_type": "stream",
     "text": [
      "WARNING: This is a development server. Do not use it in a production deployment. Use a production WSGI server instead.\n",
      " * Running on all addresses (0.0.0.0)\n",
      " * Running on http://127.0.0.1:8888\n",
      " * Running on http://192.168.100.11:8888\n",
      "Press CTRL+C to quit\n"
     ]
    }
   ],
   "source": [
    "from flask import Flask\n",
    "\n",
    "\n",
    "app = Flask(__name__)\n",
    "\n",
    "@app.route('/check')\n",
    "def check_message():\n",
    "    # Generate a random integer between 0 and 100\n",
    "    random_number = random.randint(0, 100)\n",
    "    return str(random_number)\n",
    "\n",
    "if __name__ == '__main__':\n",
    "    #app.debug = True \n",
    "    app.run(host='0.0.0.0', port=8888)\n"
   ]
  },
  {
   "cell_type": "code",
   "execution_count": 2,
   "id": "0e992094",
   "metadata": {},
   "outputs": [
    {
     "name": "stdout",
     "output_type": "stream",
     "text": [
      " * Serving Flask app '__main__'\n",
      " * Debug mode: off\n"
     ]
    },
    {
     "name": "stderr",
     "output_type": "stream",
     "text": [
      "INFO:werkzeug:\u001b[31m\u001b[1mWARNING: This is a development server. Do not use it in a production deployment. Use a production WSGI server instead.\u001b[0m\n",
      " * Running on all addresses (0.0.0.0)\n",
      " * Running on http://127.0.0.1:8888\n",
      " * Running on http://192.168.100.11:8888\n",
      "INFO:werkzeug:\u001b[33mPress CTRL+C to quit\u001b[0m\n",
      "INFO:werkzeug:192.168.100.17 - - [06/May/2024 03:31:54] \"POST /upload-audio HTTP/1.1\" 200 -\n",
      "INFO:werkzeug:192.168.100.17 - - [06/May/2024 03:31:55] \"GET /check HTTP/1.1\" 200 -\n"
     ]
    }
   ],
   "source": [
    "from flask import Flask, request, send_file, jsonify\n",
    "import random\n",
    "import time\n",
    "\n",
    "app = Flask(__name__)\n",
    "\n",
    "@app.route('/upload-audio', methods=['POST'])\n",
    "def upload_audio():\n",
    "    file = request.files.get('file')\n",
    "    if not file:\n",
    "        return jsonify({\"error\": \"No audio file provided\"}), 400\n",
    "\n",
    "    # Save the audio file\n",
    "    file.save('audio.wav')\n",
    "\n",
    "\n",
    "    return \"Audio file uploaded and processed successfully\"\n",
    "\n",
    "@app.route('/get-audio')\n",
    "def get_audio():\n",
    "    # Send the audio file back to the client\n",
    "    return send_file('audio.wav', as_attachment=True)\n",
    "\n",
    "@app.route('/check')\n",
    "def check_message():\n",
    "    # Generate a random integer between 0 and 100\n",
    "    random_number = random.randint(0, 100)\n",
    "    return str(random_number)\n",
    "\n",
    "\n",
    "if __name__ == '__main__':\n",
    "    app.run(host='0.0.0.0', port=8888 )\n"
   ]
  },
  {
   "cell_type": "code",
   "execution_count": 1,
   "id": "b0efe56f",
   "metadata": {},
   "outputs": [
    {
     "name": "stdout",
     "output_type": "stream",
     "text": [
      "Keras model archive loading:\n",
      "File Name                                             Modified             Size\n",
      "config.json                                    2024-04-23 19:58:58         5228\n",
      "metadata.json                                  2024-04-23 19:58:58           64\n",
      "variables.h5                                   2024-04-23 19:58:58     10248328\n",
      "Keras weights file (<HDF5 file \"variables.h5\" (mode r)>) loading:\n",
      "...layers\\conv2d\n",
      "......vars\n",
      ".........0\n",
      ".........1\n",
      "...layers\\conv2d_1\n",
      "......vars\n",
      ".........0\n",
      ".........1\n",
      "...layers\\dense\n",
      "......vars\n",
      ".........0\n",
      ".........1\n",
      "...layers\\dense_1\n",
      "......vars\n",
      ".........0\n",
      ".........1\n",
      "...layers\\lstm\n",
      "......vars\n",
      "...layers\\lstm\\cell\n",
      "......vars\n",
      ".........0\n",
      ".........1\n",
      ".........2\n",
      "...layers\\lstm_1\n",
      "......vars\n",
      "...layers\\lstm_1\\cell\n",
      "......vars\n",
      ".........0\n",
      ".........1\n",
      ".........2\n",
      "...layers\\max_pooling2d\n",
      "......vars\n",
      "...layers\\max_pooling2d_1\n",
      "......vars\n",
      "...layers\\time_distributed\n",
      "......vars\n",
      "...layers\\time_distributed\\layer\n",
      "......vars\n",
      "...metrics\\mean\n",
      "......vars\n",
      ".........0\n",
      ".........1\n",
      "...metrics\\mean_metric_wrapper\n",
      "......vars\n",
      ".........0\n",
      ".........1\n",
      "...metrics\\precision\n",
      "......vars\n",
      ".........0\n",
      ".........1\n",
      "...metrics\\recall\n",
      "......vars\n",
      ".........0\n",
      ".........1\n",
      "...optimizer\n",
      "......vars\n",
      ".........0\n",
      ".........1\n",
      ".........10\n",
      ".........11\n",
      ".........12\n",
      ".........13\n",
      ".........14\n",
      ".........15\n",
      ".........16\n",
      ".........17\n",
      ".........18\n",
      ".........19\n",
      ".........2\n",
      ".........20\n",
      ".........21\n",
      ".........22\n",
      ".........23\n",
      ".........24\n",
      ".........25\n",
      ".........26\n",
      ".........27\n",
      ".........28\n",
      ".........3\n",
      ".........4\n",
      ".........5\n",
      ".........6\n",
      ".........7\n",
      ".........8\n",
      ".........9\n",
      "...vars\n",
      " * Serving Flask app '__main__'\n",
      " * Debug mode: off\n"
     ]
    },
    {
     "name": "stderr",
     "output_type": "stream",
     "text": [
      "INFO:werkzeug:\u001b[31m\u001b[1mWARNING: This is a development server. Do not use it in a production deployment. Use a production WSGI server instead.\u001b[0m\n",
      " * Running on all addresses (0.0.0.0)\n",
      " * Running on http://127.0.0.1:5000\n",
      " * Running on http://172.20.10.6:5000\n",
      "INFO:werkzeug:\u001b[33mPress CTRL+C to quit\u001b[0m\n",
      "INFO:werkzeug:172.20.10.2 - - [06/May/2024 11:22:30] \"POST /upload-audio HTTP/1.1\" 200 -\n",
      "INFO:werkzeug:172.20.10.2 - - [06/May/2024 11:22:34] \"POST /upload-audio HTTP/1.1\" 200 -\n"
     ]
    },
    {
     "name": "stdout",
     "output_type": "stream",
     "text": [
      "4/4 [==============================] - 2s 301ms/step\n"
     ]
    },
    {
     "name": "stderr",
     "output_type": "stream",
     "text": [
      "INFO:werkzeug:172.20.10.2 - - [06/May/2024 11:22:54] \"GET /check HTTP/1.1\" 200 -\n"
     ]
    },
    {
     "name": "stdout",
     "output_type": "stream",
     "text": [
      "4/4 [==============================] - 3s 296ms/step\n"
     ]
    },
    {
     "name": "stderr",
     "output_type": "stream",
     "text": [
      "INFO:werkzeug:172.20.10.2 - - [06/May/2024 11:22:54] \"GET /check HTTP/1.1\" 200 -\n"
     ]
    }
   ],
   "source": [
    "import logging\n",
    "from flask import Flask, request, send_file, jsonify\n",
    "from get import percen\n",
    "import os\n",
    "from pydub import AudioSegment\n",
    "import tempfile\n",
    "app = Flask(__name__)\n",
    "\n",
    "# Configure logging\n",
    "logging.basicConfig(level=logging.ERROR)\n",
    "\n",
    "@app.route('/upload-audio', methods=['POST'])\n",
    "def upload_audio():\n",
    "    file = request.files.get('file')\n",
    "    if not file:\n",
    "        return jsonify({\"error\": \"No audio file provided\"}), 400\n",
    "\n",
    "    try:\n",
    "        # Save the audio file\n",
    "        file.save('audio.wav')\n",
    "        return \"Audio file uploaded and processed successfully\"\n",
    "    except Exception as e:\n",
    "        logging.error(f\"Error saving audio file: {e}\")\n",
    "        return jsonify({\"error\": f\"Error saving audio file: {str(e)}\"}), 500\n",
    "\n",
    "@app.route('/get-audio')\n",
    "def get_audio():\n",
    "    # Check if the audio file exists before sending\n",
    "    if os.path.exists('audio.wav'):\n",
    "        return send_file('audio.wav', as_attachment=True)\n",
    "    else:\n",
    "        return jsonify({\"error\": \"Audio file not found\"}), 404\n",
    "\n",
    "@app.route('/check')\n",
    "def check_message():\n",
    "    try:\n",
    "        percent =  percen()\n",
    "        return str(percent)\n",
    "    except Exception as e:\n",
    "        logging.error(f\"Error checking message: {e}\")\n",
    "        return jsonify({\"error\": f\"Error checking message: {str(e)}\"}), 500\n",
    "    \n",
    "\n",
    "if __name__ == '__main__':\n",
    "    app.run(host='0.0.0.0', port=5000)\n",
    "\n"
   ]
  },
  {
   "cell_type": "code",
   "execution_count": 3,
   "id": "5fc6fc9b",
   "metadata": {},
   "outputs": [
    {
     "name": "stdout",
     "output_type": "stream",
     "text": [
      " * Serving Flask app '__main__'\n",
      " * Debug mode: off\n"
     ]
    },
    {
     "name": "stderr",
     "output_type": "stream",
     "text": [
      "WARNING: This is a development server. Do not use it in a production deployment. Use a production WSGI server instead.\n",
      " * Running on all addresses (0.0.0.0)\n",
      " * Running on http://127.0.0.1:5000\n",
      " * Running on http://192.168.100.11:5000\n",
      "Press CTRL+C to quit\n"
     ]
    },
    {
     "ename": "",
     "evalue": "",
     "output_type": "error",
     "traceback": [
      "\u001b[1;31mThe Kernel crashed while executing code in the current cell or a previous cell. \n",
      "\u001b[1;31mPlease review the code in the cell(s) to identify a possible cause of the failure. \n",
      "\u001b[1;31mClick <a href='https://aka.ms/vscodeJupyterKernelCrash'>here</a> for more info. \n",
      "\u001b[1;31mView Jupyter <a href='command:jupyter.viewOutput'>log</a> for further details."
     ]
    }
   ],
   "source": [
    "from flask import Flask, request, jsonify\n",
    "\n",
    "app = Flask(__name__)\n",
    "\n",
    "@app.route('/upload_sound_data', methods=['POST'])\n",
    "def upload_sound_data():\n",
    "    # Assuming the sound data is uploaded as a file named 'sound_file' in the request\n",
    "    if 'sound_file' not in request.files:\n",
    "        return jsonify({'error': 'No sound file uploaded'}), 400\n",
    "    \n",
    "    sound_file = request.files['sound_file']\n",
    "    \n",
    "    # Save the uploaded sound file to a specific directory\n",
    "    sound_file.save('sound.wav')\n",
    "\n",
    "    # Perform any processing or analysis on the uploaded sound data here\n",
    "\n",
    "    return jsonify({'message': 'Sound data received and processed successfully'}), 200\n",
    "\n",
    "if __name__ == '__main__':\n",
    "    app.run(host='0.0.0.0', port=5000)\n"
   ]
  },
  {
   "cell_type": "code",
   "execution_count": 1,
   "id": "c9291ba6",
   "metadata": {},
   "outputs": [
    {
     "name": "stdout",
     "output_type": "stream",
     "text": [
      " * Serving Flask app '__main__'\n",
      " * Debug mode: off\n"
     ]
    },
    {
     "name": "stderr",
     "output_type": "stream",
     "text": [
      "WARNING: This is a development server. Do not use it in a production deployment. Use a production WSGI server instead.\n",
      " * Running on all addresses (0.0.0.0)\n",
      " * Running on http://127.0.0.1:5000\n",
      " * Running on http://192.168.100.11:5000\n",
      "Press CTRL+C to quit\n"
     ]
    }
   ],
   "source": [
    "from flask import Flask, request, jsonify, make_response\n",
    "from pydub import AudioSegment\n",
    "\n",
    "app = Flask(__name__)\n",
    "\n",
    "@app.route('/upload_sound_data')\n",
    "def upload_sound_data():\n",
    "    # Check if the request contains a file named 'sound_file'\n",
    "    print(\"hello\")\n",
    "    if 'sound_file' not in request.files:\n",
    "        return jsonify({'error': 'No sound file uploaded'}), 400\n",
    "\n",
    "    sound_file = request.files['sound_file']\n",
    "\n",
    "    # Save the uploaded audio file to a temporary location\n",
    "    audio_file_path = 'temp_audio.wav'\n",
    "    sound_file.save(audio_file_path)\n",
    "\n",
    "    try:\n",
    "        # Convert the uploaded audio file to MP3 format\n",
    "        audio = AudioSegment.from_wav(audio_file_path)\n",
    "        audio.export('processed_audio.mp3', format='mp3')\n",
    "\n",
    "        # Send back a successful response with the processed data or results\n",
    "        return jsonify({'message': 'Audio processed successfully'}), 200\n",
    "    except Exception as e:\n",
    "        # Handle any exceptions and return an error response\n",
    "        return jsonify({'error': str(e)}), 500\n",
    "\n",
    "if __name__ == '__main__':\n",
    "    app.run(host='0.0.0.0', port=5000)\n"
   ]
  },
  {
   "cell_type": "code",
   "execution_count": null,
   "id": "89028982",
   "metadata": {},
   "outputs": [
    {
     "name": "stdout",
     "output_type": "stream",
     "text": [
      " * Serving Flask app '__main__'\n",
      " * Debug mode: off\n"
     ]
    },
    {
     "name": "stderr",
     "output_type": "stream",
     "text": [
      "WARNING: This is a development server. Do not use it in a production deployment. Use a production WSGI server instead.\n",
      " * Running on all addresses (0.0.0.0)\n",
      " * Running on http://127.0.0.1:5000\n",
      " * Running on http://192.168.100.11:5000\n",
      "INFO:werkzeug:\u001b[31m\u001b[1mWARNING: This is a development server. Do not use it in a production deployment. Use a production WSGI server instead.\u001b[0m\n",
      " * Running on all addresses (0.0.0.0)\n",
      " * Running on http://127.0.0.1:5000\n",
      " * Running on http://192.168.100.11:5000\n",
      "Press CTRL+C to quit\n",
      "INFO:werkzeug:\u001b[33mPress CTRL+C to quit\u001b[0m\n",
      "192.168.100.17 - - [28/Apr/2024 18:07:46] \"POST /upload_sound_data HTTP/1.1\" 200 -\n",
      "INFO:werkzeug:192.168.100.17 - - [28/Apr/2024 18:07:46] \"POST /upload_sound_data HTTP/1.1\" 200 -\n",
      "192.168.100.17 - - [28/Apr/2024 18:07:47] \"POST /upload_sound_data HTTP/1.1\" 200 -\n",
      "INFO:werkzeug:192.168.100.17 - - [28/Apr/2024 18:07:47] \"POST /upload_sound_data HTTP/1.1\" 200 -\n",
      "192.168.100.17 - - [28/Apr/2024 18:07:48] \"POST /upload_sound_data HTTP/1.1\" 200 -\n",
      "INFO:werkzeug:192.168.100.17 - - [28/Apr/2024 18:07:48] \"POST /upload_sound_data HTTP/1.1\" 200 -\n",
      "192.168.100.17 - - [28/Apr/2024 18:07:49] \"POST /upload_sound_data HTTP/1.1\" 200 -\n",
      "INFO:werkzeug:192.168.100.17 - - [28/Apr/2024 18:07:49] \"POST /upload_sound_data HTTP/1.1\" 200 -\n",
      "192.168.100.17 - - [28/Apr/2024 18:07:52] \"POST /upload_sound_data HTTP/1.1\" 200 -\n",
      "INFO:werkzeug:192.168.100.17 - - [28/Apr/2024 18:07:52] \"POST /upload_sound_data HTTP/1.1\" 200 -\n"
     ]
    },
    {
     "name": "stderr",
     "output_type": "stream",
     "text": [
      "192.168.100.17 - - [28/Apr/2024 18:07:53] \"POST /upload_sound_data HTTP/1.1\" 200 -\n",
      "INFO:werkzeug:192.168.100.17 - - [28/Apr/2024 18:07:53] \"POST /upload_sound_data HTTP/1.1\" 200 -\n"
     ]
    }
   ],
   "source": [
    "from flask import Flask, request, jsonify\n",
    "from pydub import AudioSegment\n",
    "import tempfile\n",
    "import os\n",
    "\n",
    "app = Flask(__name__)\n",
    "\n",
    "@app.route('/upload_sound_data', methods=['POST'])\n",
    "def upload_sound_data():\n",
    "    # Check if the request contains a file named 'file'\n",
    "    if 'file' not in request.files:\n",
    "        return jsonify({'error': 'No sound file uploaded'}), 400\n",
    "\n",
    "    sound_file = request.files['file']\n",
    "\n",
    "    # Create a temporary directory to save the uploaded audio file\n",
    "    temp_dir = tempfile.mkdtemp()\n",
    "    audio_file_path = os.path.join(temp_dir, 'temp_audio.wav')\n",
    "\n",
    "    # Save the uploaded audio file to the temporary location\n",
    "    sound_file.save(audio_file_path)\n",
    "\n",
    "    try:\n",
    "        # Convert the uploaded audio file to MP3 format\n",
    "        audio = AudioSegment.from_wav(audio_file_path)\n",
    "        audio.export(os.path.join(temp_dir, 'processed_audio.mp3'), format='mp3')\n",
    "\n",
    "        # Send back a successful response with the processed data or results\n",
    "        return jsonify({'message': 'Audio processed successfully'}), 200\n",
    "    except Exception as e:\n",
    "        # Handle any exceptions and return an error response\n",
    "        return jsonify({'error': str(e)}), 500\n",
    "\n",
    "if __name__ == '__main__':\n",
    "    app.run(host='0.0.0.0', port=5000)\n"
   ]
  },
  {
   "cell_type": "code",
   "execution_count": 31,
   "id": "321f4870",
   "metadata": {},
   "outputs": [
    {
     "name": "stdout",
     "output_type": "stream",
     "text": [
      " * Serving Flask app '__main__'\n",
      " * Debug mode: off\n"
     ]
    },
    {
     "name": "stderr",
     "output_type": "stream",
     "text": [
      "WARNING: This is a development server. Do not use it in a production deployment. Use a production WSGI server instead.\n",
      " * Running on all addresses (0.0.0.0)\n",
      " * Running on http://127.0.0.1:5000\n",
      " * Running on http://192.168.100.11:5000\n",
      "INFO:werkzeug:\u001b[31m\u001b[1mWARNING: This is a development server. Do not use it in a production deployment. Use a production WSGI server instead.\u001b[0m\n",
      " * Running on all addresses (0.0.0.0)\n",
      " * Running on http://127.0.0.1:5000\n",
      " * Running on http://192.168.100.11:5000\n",
      "Press CTRL+C to quit\n",
      "INFO:werkzeug:\u001b[33mPress CTRL+C to quit\u001b[0m\n",
      "192.168.100.17 - - [28/Apr/2024 18:11:10] \"POST /upload_sound_data HTTP/1.1\" 200 -\n",
      "INFO:werkzeug:192.168.100.17 - - [28/Apr/2024 18:11:10] \"POST /upload_sound_data HTTP/1.1\" 200 -\n",
      "192.168.100.17 - - [28/Apr/2024 18:11:10] \"POST /upload_sound_data HTTP/1.1\" 200 -\n",
      "INFO:werkzeug:192.168.100.17 - - [28/Apr/2024 18:11:10] \"POST /upload_sound_data HTTP/1.1\" 200 -\n",
      "192.168.100.17 - - [28/Apr/2024 18:11:10] \"POST /upload_sound_data HTTP/1.1\" 200 -\n",
      "INFO:werkzeug:192.168.100.17 - - [28/Apr/2024 18:11:10] \"POST /upload_sound_data HTTP/1.1\" 200 -\n",
      "192.168.100.17 - - [28/Apr/2024 18:11:11] \"POST /upload_sound_data HTTP/1.1\" 200 -\n",
      "INFO:werkzeug:192.168.100.17 - - [28/Apr/2024 18:11:11] \"POST /upload_sound_data HTTP/1.1\" 200 -\n",
      "192.168.100.17 - - [28/Apr/2024 18:11:11] \"POST /upload_sound_data HTTP/1.1\" 200 -\n",
      "INFO:werkzeug:192.168.100.17 - - [28/Apr/2024 18:11:11] \"POST /upload_sound_data HTTP/1.1\" 200 -\n",
      "192.168.100.17 - - [28/Apr/2024 18:11:11] \"POST /upload_sound_data HTTP/1.1\" 200 -\n",
      "INFO:werkzeug:192.168.100.17 - - [28/Apr/2024 18:11:11] \"POST /upload_sound_data HTTP/1.1\" 200 -\n",
      "192.168.100.17 - - [28/Apr/2024 18:11:12] \"POST /upload_sound_data HTTP/1.1\" 200 -\n",
      "INFO:werkzeug:192.168.100.17 - - [28/Apr/2024 18:11:12] \"POST /upload_sound_data HTTP/1.1\" 200 -\n",
      "192.168.100.17 - - [28/Apr/2024 18:11:14] \"POST /upload_sound_data HTTP/1.1\" 200 -\n",
      "INFO:werkzeug:192.168.100.17 - - [28/Apr/2024 18:11:14] \"POST /upload_sound_data HTTP/1.1\" 200 -\n",
      "192.168.100.17 - - [28/Apr/2024 18:11:14] \"POST /upload_sound_data HTTP/1.1\" 200 -\n",
      "INFO:werkzeug:192.168.100.17 - - [28/Apr/2024 18:11:14] \"POST /upload_sound_data HTTP/1.1\" 200 -\n",
      "192.168.100.17 - - [28/Apr/2024 18:11:15] \"POST /upload_sound_data HTTP/1.1\" 200 -\n",
      "INFO:werkzeug:192.168.100.17 - - [28/Apr/2024 18:11:15] \"POST /upload_sound_data HTTP/1.1\" 200 -\n",
      "192.168.100.17 - - [28/Apr/2024 18:11:15] \"POST /upload_sound_data HTTP/1.1\" 200 -\n",
      "INFO:werkzeug:192.168.100.17 - - [28/Apr/2024 18:11:15] \"POST /upload_sound_data HTTP/1.1\" 200 -\n",
      "192.168.100.17 - - [28/Apr/2024 18:11:16] \"POST /upload_sound_data HTTP/1.1\" 200 -\n",
      "INFO:werkzeug:192.168.100.17 - - [28/Apr/2024 18:11:16] \"POST /upload_sound_data HTTP/1.1\" 200 -\n",
      "192.168.100.17 - - [28/Apr/2024 18:11:19] \"POST /upload_sound_data HTTP/1.1\" 200 -\n",
      "INFO:werkzeug:192.168.100.17 - - [28/Apr/2024 18:11:19] \"POST /upload_sound_data HTTP/1.1\" 200 -\n"
     ]
    }
   ],
   "source": [
    "from flask import Flask, request, jsonify\n",
    "\n",
    "app = Flask(__name__)\n",
    "\n",
    "@app.route('/upload_sound_data', methods=['POST'])\n",
    "def upload_sound_data():\n",
    "    # Your code to handle the POST request and process the audio file\n",
    "    return jsonify({'message': 'Audio processed successfully'}), 200\n",
    "\n",
    "if __name__ == '__main__':\n",
    "    app.run(host='0.0.0.0', port=5000)\n"
   ]
  },
  {
   "cell_type": "code",
   "execution_count": 6,
   "id": "2bf1da39",
   "metadata": {},
   "outputs": [
    {
     "name": "stdout",
     "output_type": "stream",
     "text": [
      " * Serving Flask app '__main__'\n",
      " * Debug mode: off\n"
     ]
    },
    {
     "name": "stderr",
     "output_type": "stream",
     "text": [
      "WARNING: This is a development server. Do not use it in a production deployment. Use a production WSGI server instead.\n",
      " * Running on all addresses (0.0.0.0)\n",
      " * Running on http://127.0.0.1:5000\n",
      " * Running on http://192.168.100.11:5000\n",
      "Press CTRL+C to quit\n"
     ]
    },
    {
     "name": "stderr",
     "output_type": "stream",
     "text": [
      "192.168.100.17 - - [05/May/2024 19:12:27] \"POST /upload_sound_data HTTP/1.1\" 200 -\n",
      "192.168.100.17 - - [05/May/2024 19:12:28] \"POST /upload_sound_data HTTP/1.1\" 200 -\n",
      "192.168.100.17 - - [05/May/2024 19:12:28] \"POST /upload_sound_data HTTP/1.1\" 200 -\n",
      "192.168.100.17 - - [05/May/2024 19:12:29] \"POST /upload_sound_data HTTP/1.1\" 200 -\n",
      "192.168.100.17 - - [05/May/2024 19:12:30] \"POST /upload_sound_data HTTP/1.1\" 200 -\n",
      "192.168.100.17 - - [05/May/2024 19:12:30] \"POST /upload_sound_data HTTP/1.1\" 200 -\n",
      "192.168.100.17 - - [05/May/2024 19:12:31] \"POST /upload_sound_data HTTP/1.1\" 200 -\n",
      "192.168.100.17 - - [05/May/2024 19:12:32] \"POST /upload_sound_data HTTP/1.1\" 200 -\n",
      "192.168.100.17 - - [05/May/2024 19:12:32] \"POST /upload_sound_data HTTP/1.1\" 200 -\n",
      "192.168.100.17 - - [05/May/2024 19:12:37] \"POST /upload_sound_data HTTP/1.1\" 200 -\n",
      "192.168.100.17 - - [05/May/2024 19:12:37] \"POST /upload_sound_data HTTP/1.1\" 200 -\n",
      "192.168.100.17 - - [05/May/2024 19:12:42] \"POST /upload_sound_data HTTP/1.1\" 200 -\n",
      "192.168.100.17 - - [05/May/2024 19:12:42] \"POST /upload_sound_data HTTP/1.1\" 200 -\n",
      "192.168.100.17 - - [05/May/2024 19:12:47] \"POST /upload_sound_data HTTP/1.1\" 200 -\n",
      "192.168.100.17 - - [05/May/2024 19:12:47] \"POST /upload_sound_data HTTP/1.1\" 200 -\n",
      "192.168.100.17 - - [05/May/2024 19:12:52] \"POST /upload_sound_data HTTP/1.1\" 200 -\n",
      "192.168.100.17 - - [05/May/2024 19:12:52] \"POST /upload_sound_data HTTP/1.1\" 200 -\n"
     ]
    }
   ],
   "source": [
    "from flask import Flask, request, jsonify, make_response\n",
    "from pydub import AudioSegment\n",
    "\n",
    "app = Flask(__name__)\n",
    "\n",
    "@app.route('/upload_sound_data', methods=['POST'])\n",
    "def upload_sound_data():\n",
    "    # Check if the request contains a file named 'file'\n",
    "    if 'file' not in request.files:\n",
    "        return jsonify({'error': 'No sound file uploaded'}), 400\n",
    "\n",
    "    sound_file = request.files['file']\n",
    "\n",
    "    # Save the uploaded audio file to a temporary location\n",
    "    audio_file_path = 'real_time_audio.wav'\n",
    "    sound_file.save(audio_file_path)\n",
    "\n",
    "    try:\n",
    "        # Convert the uploaded audio file to MP3 format (optional)\n",
    "        audio = AudioSegment.from_wav(audio_file_path)\n",
    "        audio.export('processed_audio.mp3', format='mp3')\n",
    "     \n",
    "        return jsonify({'message': 'Audio uploaded and saved successfully'}), 200\n",
    "    except Exception as e:\n",
    "        # Handle any exceptions and return an error response\n",
    "        return jsonify({'error': str(e)}), 500\n",
    "\n",
    "if __name__ == '__main__':\n",
    "    app.run(host='0.0.0.0', port=5000)\n"
   ]
  },
  {
   "cell_type": "code",
   "execution_count": 3,
   "id": "4a453bc4",
   "metadata": {},
   "outputs": [
    {
     "name": "stdout",
     "output_type": "stream",
     "text": [
      "Keras model archive loading:\n",
      "File Name                                             Modified             Size\n",
      "config.json                                    2024-04-23 19:58:58         5228\n",
      "metadata.json                                  2024-04-23 19:58:58           64\n",
      "variables.h5                                   2024-04-23 19:58:58     10248328\n",
      "Keras weights file (<HDF5 file \"variables.h5\" (mode r)>) loading:\n",
      "...layers\\conv2d\n",
      "......vars\n",
      ".........0\n",
      ".........1\n",
      "...layers\\conv2d_1\n",
      "......vars\n",
      ".........0\n",
      ".........1\n",
      "...layers\\dense\n",
      "......vars\n",
      ".........0\n",
      ".........1\n",
      "...layers\\dense_1\n",
      "......vars\n",
      ".........0\n",
      ".........1\n",
      "...layers\\lstm\n",
      "......vars\n",
      "...layers\\lstm\\cell\n",
      "......vars\n",
      ".........0\n",
      ".........1\n",
      ".........2\n",
      "...layers\\lstm_1\n",
      "......vars\n",
      "...layers\\lstm_1\\cell\n",
      "......vars\n",
      ".........0\n",
      ".........1\n",
      ".........2\n",
      "...layers\\max_pooling2d\n",
      "......vars\n",
      "...layers\\max_pooling2d_1\n",
      "......vars\n",
      "...layers\\time_distributed\n",
      "......vars\n",
      "...layers\\time_distributed\\layer\n",
      "......vars\n",
      "...metrics\\mean\n",
      "......vars\n",
      ".........0\n",
      ".........1\n",
      "...metrics\\mean_metric_wrapper\n",
      "......vars\n",
      ".........0\n",
      ".........1\n",
      "...metrics\\precision\n",
      "......vars\n",
      ".........0\n",
      ".........1\n",
      "...metrics\\recall\n",
      "......vars\n",
      ".........0\n",
      ".........1\n",
      "...optimizer\n",
      "......vars\n",
      ".........0\n",
      ".........1\n",
      ".........10\n",
      ".........11\n",
      ".........12\n",
      ".........13\n",
      ".........14\n",
      ".........15\n",
      ".........16\n",
      ".........17\n",
      ".........18\n",
      ".........19\n",
      ".........2\n",
      ".........20\n",
      ".........21\n",
      ".........22\n",
      ".........23\n",
      ".........24\n",
      ".........25\n",
      ".........26\n",
      ".........27\n",
      ".........28\n",
      ".........3\n",
      ".........4\n",
      ".........5\n",
      ".........6\n",
      ".........7\n",
      ".........8\n",
      ".........9\n",
      "...vars\n",
      " * Serving Flask app '__main__'\n",
      " * Debug mode: off\n"
     ]
    },
    {
     "name": "stderr",
     "output_type": "stream",
     "text": [
      "INFO:werkzeug:\u001b[31m\u001b[1mWARNING: This is a development server. Do not use it in a production deployment. Use a production WSGI server instead.\u001b[0m\n",
      " * Running on all addresses (0.0.0.0)\n",
      " * Running on http://127.0.0.1:5000\n",
      " * Running on http://192.168.100.11:5000\n",
      "INFO:werkzeug:\u001b[33mPress CTRL+C to quit\u001b[0m\n"
     ]
    }
   ],
   "source": [
    "from flask import Flask, request, jsonify\n",
    "from pydub import AudioSegment\n",
    "from processingAudio import percentForRealTime # Import the function from the external file\n",
    "\n",
    "app = Flask(__name__)\n",
    "\n",
    "@app.route('/upload_sound_data')\n",
    "def upload_sound_data():\n",
    "    # Check if the request contains a file named 'file'\n",
    "    if 'file' not in request.files:\n",
    "        return jsonify({'error': 'No sound file uploaded'}), 400\n",
    "\n",
    "    sound_file = request.files['file']\n",
    "\n",
    "    try:\n",
    "        # Call the function from the external file to generate the response string\n",
    "        response_message = percentForRealTime(sound_file)\n",
    "\n",
    "        # Send back a successful response with the processed data or results\n",
    "        return jsonify({'message': response_message}), 200\n",
    "    except Exception as e:\n",
    "        # Handle any exceptions and return an error response\n",
    "        return jsonify({'error': str(e)}), 500\n",
    "\n",
    "if __name__ == '__main__':\n",
    "    app.run(host='0.0.0.0', port=5000)\n"
   ]
  },
  {
   "cell_type": "code",
   "execution_count": 7,
   "id": "8a9e95b7",
   "metadata": {},
   "outputs": [
    {
     "name": "stdout",
     "output_type": "stream",
     "text": [
      " * Serving Flask app '__main__'\n",
      " * Debug mode: off\n"
     ]
    },
    {
     "name": "stderr",
     "output_type": "stream",
     "text": [
      "WARNING: This is a development server. Do not use it in a production deployment. Use a production WSGI server instead.\n",
      " * Running on all addresses (0.0.0.0)\n",
      " * Running on http://127.0.0.1:8888\n",
      " * Running on http://192.168.100.11:8888\n",
      "INFO:werkzeug:\u001b[31m\u001b[1mWARNING: This is a development server. Do not use it in a production deployment. Use a production WSGI server instead.\u001b[0m\n",
      " * Running on all addresses (0.0.0.0)\n",
      " * Running on http://127.0.0.1:8888\n",
      " * Running on http://192.168.100.11:8888\n",
      "Press CTRL+C to quit\n",
      "INFO:werkzeug:\u001b[33mPress CTRL+C to quit\u001b[0m\n",
      "192.168.100.17 - - [05/May/2024 19:17:24] \"POST /upload-audio HTTP/1.1\" 200 -\n",
      "INFO:werkzeug:192.168.100.17 - - [05/May/2024 19:17:24] \"POST /upload-audio HTTP/1.1\" 200 -\n",
      "ERROR:root:Error checking message: name 'percentForUploadingAudio' is not defined\n",
      "192.168.100.17 - - [05/May/2024 19:17:24] \"GET /check HTTP/1.1\" 500 -\n",
      "INFO:werkzeug:192.168.100.17 - - [05/May/2024 19:17:24] \"\u001b[35m\u001b[1mGET /check HTTP/1.1\u001b[0m\" 500 -\n"
     ]
    }
   ],
   "source": [
    "import logging\n",
    "from flask import Flask, request, send_file, jsonify\n",
    "from pydub import AudioSegment\n",
    "import os\n",
    "\n",
    "app = Flask(__name__)\n",
    "\n",
    "# Configure logging\n",
    "logging.basicConfig(level=logging.ERROR)\n",
    "\n",
    "@app.route('/upload_sound_data', methods=['POST'])\n",
    "def upload_sound_data():\n",
    "    # Check if the request contains a file named 'file'\n",
    "    if 'file' not in request.files:\n",
    "        return jsonify({'error': 'No sound file uploaded'}), 400\n",
    "\n",
    "    sound_file = request.files['file']\n",
    "\n",
    "    # Save the uploaded audio file to a temporary location\n",
    "    audio_file_path = 'real_time_audio.wav'\n",
    "    sound_file.save(audio_file_path)\n",
    "\n",
    "    try:\n",
    "        # Convert the uploaded audio file to MP3 format (optional)\n",
    "        audio = AudioSegment.from_wav(audio_file_path)\n",
    "        audio.export('processed_audio.mp3', format='mp3')\n",
    "     \n",
    "        return jsonify({'message': 'Audio uploaded and saved successfully'}), 200\n",
    "    except Exception as e:\n",
    "        # Handle any exceptions and return an error response\n",
    "        return jsonify({'error': str(e)}), 500\n",
    "\n",
    "@app.route('/upload-audio', methods=['POST'])\n",
    "def upload_audio():\n",
    "    file = request.files.get('file')\n",
    "    if not file:\n",
    "        return jsonify({\"error\": \"No audio file provided\"}), 400\n",
    "\n",
    "    try:\n",
    "        # Save the audio file\n",
    "        file.save('audio.wav')\n",
    "        return \"Audio file uploaded and processed successfully\"\n",
    "    except Exception as e:\n",
    "        logging.error(f\"Error saving audio file: {e}\")\n",
    "        return jsonify({\"error\": f\"Error saving audio file: {str(e)}\"}), 500\n",
    "\n",
    "@app.route('/get-audio')\n",
    "def get_audio():\n",
    "    # Check if the audio file exists before sending\n",
    "    if os.path.exists('audio.wav'):\n",
    "        return send_file('audio.wav', as_attachment=True)\n",
    "    else:\n",
    "        return jsonify({\"error\": \"Audio file not found\"}), 404\n",
    "\n",
    "@app.route('/check')\n",
    "def check_message():\n",
    "    try:\n",
    "        percent =  percentForUploadingAudio()\n",
    "        return str(percent)\n",
    "    except Exception as e:\n",
    "        logging.error(f\"Error checking message: {e}\")\n",
    "        return jsonify({\"error\": f\"Error checking message: {str(e)}\"}), 500\n",
    "\n",
    "if __name__ == '__main__':\n",
    "    app.run(host='0.0.0.0', port=8888)\n"
   ]
  }
 ],
 "metadata": {
  "kernelspec": {
   "display_name": "Python 3 (ipykernel)",
   "language": "python",
   "name": "python3"
  },
  "language_info": {
   "codemirror_mode": {
    "name": "ipython",
    "version": 3
   },
   "file_extension": ".py",
   "mimetype": "text/x-python",
   "name": "python",
   "nbconvert_exporter": "python",
   "pygments_lexer": "ipython3",
   "version": "3.8.0"
  }
 },
 "nbformat": 4,
 "nbformat_minor": 5
}
